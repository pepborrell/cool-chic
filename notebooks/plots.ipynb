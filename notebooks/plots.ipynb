{
 "cells": [
  {
   "cell_type": "markdown",
   "id": "a7c2d8de",
   "metadata": {},
   "source": [
    "# Plot 2: flops vs BD-rate"
   ]
  },
  {
   "cell_type": "code",
   "execution_count": 11,
   "id": "f4a524fc",
   "metadata": {},
   "outputs": [],
   "source": [
    "import pandas as pd\n",
    "import seaborn as sns\n",
    "\n",
    "from coolchic.eval.hypernet import get_hypernet_flops\n",
    "from coolchic.hypernet.hypernet import DeltaWholeNet, NOWholeNet\n",
    "\n",
    "sns.set_theme(context=\"notebook\", style=\"whitegrid\")"
   ]
  },
  {
   "cell_type": "code",
   "execution_count": 4,
   "id": "7c5f2366",
   "metadata": {},
   "outputs": [],
   "source": [
    "flops = {\n",
    "    \"coolchic\": (\n",
    "        coolchic_fwd := get_hypernet_flops(DeltaWholeNet, get_coolchic_flops=True)\n",
    "    ),\n",
    "    \"coolchic_step\": 3 * coolchic_fwd,\n",
    "    \"nocc\": get_hypernet_flops(NOWholeNet),\n",
    "    \"delta\": get_hypernet_flops(DeltaWholeNet),\n",
    "}\n",
    "\n",
    "bd_rates = {\n",
    "    \"kodak\": {\n",
    "        \"nocc\": 33.478488207355284,\n",
    "        \"delta\": 33.478488207355284,\n",
    "    },\n",
    "    \"clic20-pro-valid\": {\n",
    "        \"nocc\": 36.233904571367106,\n",
    "        \"delta\": 28.284958907776783,\n",
    "    },\n",
    "}"
   ]
  },
  {
   "cell_type": "code",
   "execution_count": null,
   "id": "9fc698d1",
   "metadata": {},
   "outputs": [
    {
     "data": {
      "text/html": [
       "<div>\n",
       "<style scoped>\n",
       "    .dataframe tbody tr th:only-of-type {\n",
       "        vertical-align: middle;\n",
       "    }\n",
       "\n",
       "    .dataframe tbody tr th {\n",
       "        vertical-align: top;\n",
       "    }\n",
       "\n",
       "    .dataframe thead th {\n",
       "        text-align: right;\n",
       "    }\n",
       "</style>\n",
       "<table border=\"1\" class=\"dataframe\">\n",
       "  <thead>\n",
       "    <tr style=\"text-align: right;\">\n",
       "      <th></th>\n",
       "      <th>dataset</th>\n",
       "      <th>method</th>\n",
       "      <th>bd_rate</th>\n",
       "      <th>flops</th>\n",
       "      <th>num_coolchic_steps</th>\n",
       "    </tr>\n",
       "  </thead>\n",
       "  <tbody>\n",
       "    <tr>\n",
       "      <th>0</th>\n",
       "      <td>kodak</td>\n",
       "      <td>nocc</td>\n",
       "      <td>33.478488</td>\n",
       "      <td>38908956672</td>\n",
       "      <td>22.208348</td>\n",
       "    </tr>\n",
       "    <tr>\n",
       "      <th>1</th>\n",
       "      <td>kodak</td>\n",
       "      <td>delta</td>\n",
       "      <td>33.478488</td>\n",
       "      <td>48419218432</td>\n",
       "      <td>27.636589</td>\n",
       "    </tr>\n",
       "    <tr>\n",
       "      <th>2</th>\n",
       "      <td>clic20-pro-valid</td>\n",
       "      <td>nocc</td>\n",
       "      <td>36.233905</td>\n",
       "      <td>38908956672</td>\n",
       "      <td>22.208348</td>\n",
       "    </tr>\n",
       "    <tr>\n",
       "      <th>3</th>\n",
       "      <td>clic20-pro-valid</td>\n",
       "      <td>delta</td>\n",
       "      <td>28.284959</td>\n",
       "      <td>48419218432</td>\n",
       "      <td>27.636589</td>\n",
       "    </tr>\n",
       "  </tbody>\n",
       "</table>\n",
       "</div>"
      ],
      "text/plain": [
       "            dataset method    bd_rate        flops  num_coolchic_steps\n",
       "0             kodak   nocc  33.478488  38908956672           22.208348\n",
       "1             kodak  delta  33.478488  48419218432           27.636589\n",
       "2  clic20-pro-valid   nocc  36.233905  38908956672           22.208348\n",
       "3  clic20-pro-valid  delta  28.284959  48419218432           27.636589"
      ]
     },
     "execution_count": 8,
     "metadata": {},
     "output_type": "execute_result"
    }
   ],
   "source": [
    "df2 = pd.DataFrame(\n",
    "    [\n",
    "        (dataset, method, bd_rate, flops[method])\n",
    "        for dataset, bd_rates in bd_rates.items()\n",
    "        for method, bd_rate in bd_rates.items()\n",
    "    ],\n",
    "    columns=[\"dataset\", \"method\", \"bd_rate\", \"flops\"],\n",
    ")\n",
    "df2[\"num_coolchic_steps\"] = df2[\"flops\"] / flops[\"coolchic_step\"]\n",
    "df2.head()"
   ]
  },
  {
   "cell_type": "code",
   "execution_count": 19,
   "id": "0b075013",
   "metadata": {},
   "outputs": [
    {
     "data": {
      "image/png": "[encoded data removed]",
      "text/plain": [
       "<Figure size 640x480 with 1 Axes>"
      ]
     },
     "metadata": {},
     "output_type": "display_data"
    }
   ],
   "source": [
    "sns.scatterplot(\n",
    "    data=df2[df2[\"dataset\"] == \"clic20-pro-valid\"],\n",
    "    x=\"num_coolchic_steps\",\n",
    "    y=\"bd_rate\",\n",
    "    hue=\"method\",\n",
    ")\n",
    "sns.despine()"
   ]
  },
  {
   "cell_type": "code",
   "execution_count": null,
   "id": "9141a74d",
   "metadata": {},
   "outputs": [],
   "source": []
  }
 ],
 "metadata": {
  "kernelspec": {
   "display_name": ".venv",
   "language": "python",
   "name": "python3"
  },
  "language_info": {
   "codemirror_mode": {
    "name": "ipython",
    "version": 3
   },
   "file_extension": ".py",
   "mimetype": "text/x-python",
   "name": "python",
   "nbconvert_exporter": "python",
   "pygments_lexer": "ipython3",
   "version": "3.11.9"
  }
 },
 "nbformat": 4,
 "nbformat_minor": 5
}
