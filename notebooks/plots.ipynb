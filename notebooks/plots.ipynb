{
 "cells": [
  {
   "cell_type": "markdown",
   "id": "940b90ad",
   "metadata": {},
   "source": [
    "# Plot 1: RD plots for avgs in a dataset and some images"
   ]
  },
  {
   "cell_type": "code",
   "execution_count": null,
   "id": "ff9721d0",
   "metadata": {},
   "outputs": [],
   "source": [
    "from typing import Literal\n",
    "\n",
    "import pandas as pd\n",
    "\n",
    "from coolchic.eval.hypernet import (\n",
    "    get_hypernet_flops,\n",
    "    plot_hypernet_rd,\n",
    "    plot_hypernet_rd_avg,\n",
    ")\n",
    "from coolchic.eval.results import parse_hypernet_metrics\n",
    "from coolchic.utils.paths import DATA_DIR, RESULTS_DIR"
   ]
  },
  {
   "cell_type": "code",
   "execution_count": null,
   "id": "5d11a9a2",
   "metadata": {},
   "outputs": [],
   "source": [
    "sweep_path = RESULTS_DIR / \"exps/copied/delta-hn/from-orange/\"\n",
    "compare_no_path = RESULTS_DIR / \"exps/copied/no-cchic/orange-nocc/\""
   ]
  },
  {
   "cell_type": "code",
   "execution_count": null,
   "id": "0596be65",
   "metadata": {},
   "outputs": [],
   "source": [
    "def rd_plots_from_dataset(dataset: Literal[\"kodak\", \"clic20-pro-valid\"]) -> None:\n",
    "    metrics = parse_hypernet_metrics(sweep_path, dataset=dataset, premature=True)\n",
    "    df = pd.concat(\n",
    "        [\n",
    "            pd.DataFrame(\n",
    "                [s.model_dump() for seq_res in metrics.values() for s in seq_res]\n",
    "            ).assign(anchor=\"hypernet\"),\n",
    "            pd.DataFrame(  # For comparison with no hypernet.\n",
    "                [\n",
    "                    s.model_dump()\n",
    "                    for seq_res in parse_hypernet_metrics(\n",
    "                        compare_no_path, dataset, premature=True\n",
    "                    ).values()\n",
    "                    for s in seq_res\n",
    "                ]\n",
    "            ).assign(anchor=\"no-coolchic\"),\n",
    "        ],\n",
    "    ).sort_values(by=[\"seq_name\", \"lmbda\"])  # So plots come out nice and in order.\n",
    "\n",
    "    plot_hypernet_rd_avg(df, dataset=dataset)\n",
    "\n",
    "    all_images = sorted(list((DATA_DIR / dataset).glob(\"*.png\")), key=lambda x: x.stem)\n",
    "    for img in all_images[:5]:\n",
    "        seq_name = img.stem\n",
    "        plot_hypernet_rd(seq_name, df, dataset=dataset)"
   ]
  },
  {
   "cell_type": "code",
   "execution_count": null,
   "id": "f09de600",
   "metadata": {},
   "outputs": [],
   "source": [
    "rd_plots_from_dataset(\"kodak\")"
   ]
  },
  {
   "cell_type": "code",
   "execution_count": null,
   "id": "5c04df9b",
   "metadata": {},
   "outputs": [],
   "source": [
    "rd_plots_from_dataset(\"clic20-pro-valid\")"
   ]
  },
  {
   "cell_type": "markdown",
   "id": "a7c2d8de",
   "metadata": {},
   "source": [
    "# Plot 2: flops vs BD-rate"
   ]
  },
  {
   "cell_type": "code",
   "execution_count": null,
   "id": "f4a524fc",
   "metadata": {},
   "outputs": [],
   "source": [
    "import matplotlib.pyplot as plt\n",
    "import pandas as pd\n",
    "import seaborn as sns\n",
    "\n",
    "from coolchic.eval.hypernet import get_hypernet_flops\n",
    "from coolchic.hypernet.hypernet import DeltaWholeNet, NOWholeNet\n",
    "\n",
    "sns.set_theme(context=\"notebook\", style=\"whitegrid\")"
   ]
  },
  {
   "cell_type": "code",
   "execution_count": null,
   "id": "7c5f2366",
   "metadata": {},
   "outputs": [],
   "source": [
    "flops = {\n",
    "    \"coolchic\": (\n",
    "        coolchic_fwd := get_hypernet_flops(DeltaWholeNet, get_coolchic_flops=True)\n",
    "    ),\n",
    "    \"coolchic_step\": 3 * coolchic_fwd,\n",
    "    \"nocc\": get_hypernet_flops(NOWholeNet),\n",
    "    \"delta\": get_hypernet_flops(DeltaWholeNet),\n",
    "}\n",
    "\n",
    "bd_rates = {\n",
    "    \"kodak\": {\n",
    "        \"nocc\": 33.478488207355284,\n",
    "        \"delta\": 33.478488207355284,\n",
    "    },\n",
    "    \"clic20-pro-valid\": {\n",
    "        \"nocc\": 36.233904571367106,\n",
    "        \"delta\": 28.284958907776783,\n",
    "    },\n",
    "}\n",
    "\n",
    "metrics_dfg = pd.DataFrame(\n",
    "    [\n",
    "        (dataset, method, bd_rate, flops[method])\n",
    "        for dataset, bd_rates in bd_rates.items()\n",
    "        for method, bd_rate in bd_rates.items()\n",
    "    ],\n",
    "    columns=[\"dataset\", \"method\", \"bd_rate\", \"flops\"],\n",
    ")\n",
    "metrics_dfg[\"num_coolchic_steps\"] = metrics_dfg[\"flops\"] / flops[\"coolchic_step\"]\n",
    "metrics_dfg.head()"
   ]
  },
  {
   "cell_type": "code",
   "execution_count": null,
   "id": "0b075013",
   "metadata": {},
   "outputs": [],
   "source": [
    "fig, ax = plt.subplots()\n",
    "sns.scatterplot(\n",
    "    data=metrics_dfg[metrics_dfg[\"dataset\"] == \"clic20-pro-valid\"],\n",
    "    x=\"num_coolchic_steps\",\n",
    "    y=\"bd_rate\",\n",
    "    hue=\"method\",\n",
    "    ax=ax,\n",
    ")\n",
    "ax.set_title(\"BD Rate vs. Equivalent number of Cool-chic Steps, CLIC20 dataset\")\n",
    "sns.despine()"
   ]
  },
  {
   "cell_type": "markdown",
   "id": "9141a74d",
   "metadata": {},
   "source": [
    "# Plot 3: finetuning"
   ]
  },
  {
   "cell_type": "code",
   "execution_count": null,
   "id": "8edcb4d1",
   "metadata": {},
   "outputs": [],
   "source": [
    "from collections import defaultdict\n",
    "\n",
    "from coolchic.eval.hypernet import find_crossing_it\n",
    "from coolchic.utils.paths import COOLCHIC_REPO_ROOT"
   ]
  },
  {
   "cell_type": "code",
   "execution_count": null,
   "id": "deae653c",
   "metadata": {},
   "outputs": [],
   "source": [
    "finetuning_data = pd.read_csv(COOLCHIC_REPO_ROOT / \"clic_finetuning_results.csv\")\n",
    "dataset = \"clic20-pro-valid\"\n",
    "freq_valid = 10  # Assuming the finetunig_results file was generated with our code.\n",
    "\n",
    "crossing_its: dict[str, dict[str, list[dict[Literal[\"hn\", \"scratch\"], int]]]] = {\n",
    "    \"jpeg\": defaultdict(list),\n",
    "    \"hm\": defaultdict(list),\n",
    "    \"hypernet\": defaultdict(list),\n",
    "}\n",
    "for image in (DATA_DIR / dataset).glob(\"*.png\"):\n",
    "    # Skip images if they are not in the results.\n",
    "    if image.stem not in finetuning_data[\"seq_name\"].values:\n",
    "        continue\n",
    "    plot_hypernet_rd(image.stem, finetuning_data, dataset)\n",
    "    for anchor_name in crossing_its:\n",
    "        crossing_its[anchor_name][image.stem].append(\n",
    "            {\n",
    "                \"hn\": find_crossing_it(\n",
    "                    image.stem,\n",
    "                    finetuning_data,\n",
    "                    \"nocc-finetuning\",\n",
    "                    anchor_name=anchor_name,\n",
    "                    dataset=dataset,\n",
    "                ),\n",
    "                \"scratch\": find_crossing_it(\n",
    "                    image.stem,\n",
    "                    finetuning_data,\n",
    "                    \"coolchic-training\",\n",
    "                    anchor_name=anchor_name,\n",
    "                    dataset=dataset,\n",
    "                ),\n",
    "            }\n",
    "        )\n",
    "\n",
    "for anchor_name, crossings_per_img in crossing_its.items():\n",
    "    print(f\"Crossing iterations for {anchor_name}\")\n",
    "    for seq_name, crossings in crossings_per_img.items():\n",
    "        for cross in crossings:\n",
    "            print(\n",
    "                f\"{seq_name:<30}, crossing iterations: \"\n",
    "                f\"nocc-finetuning: {cross['hn'] * freq_valid if cross['hn'] > 0 else 'no':>4}, \"\n",
    "                f\"coolchic-training: {cross['scratch'] * freq_valid if cross['scratch'] > 0 else 'no':>4}\"\n",
    "            )\n",
    "# plt.show()"
   ]
  },
  {
   "cell_type": "markdown",
   "id": "56551e52",
   "metadata": {},
   "source": [
    "# Plot 4: show bd rate vs flops as training progresses"
   ]
  },
  {
   "cell_type": "code",
   "execution_count": null,
   "id": "11bd5cbd",
   "metadata": {},
   "outputs": [],
   "source": [
    "import matplotlib.pyplot as plt\n",
    "import pandas as pd\n",
    "import seaborn as sns\n",
    "\n",
    "from coolchic.eval.bd_rate import bd_rates_summary_anchor_name\n",
    "from coolchic.eval.hypernet import get_hypernet_flops\n",
    "from coolchic.eval.results import SummaryEncodingMetrics\n",
    "from coolchic.hypernet.hypernet import DeltaWholeNet, NOWholeNet\n",
    "\n",
    "sns.set_theme(context=\"notebook\", style=\"whitegrid\")"
   ]
  },
  {
   "cell_type": "code",
   "execution_count": null,
   "id": "23fae6fd",
   "metadata": {},
   "outputs": [],
   "source": [
    "flops = {\n",
    "    \"coolchic\": (\n",
    "        coolchic_fwd := get_hypernet_flops(DeltaWholeNet, get_coolchic_flops=True)\n",
    "    ),\n",
    "    \"coolchic_step\": 3 * coolchic_fwd,\n",
    "    \"nocc\": get_hypernet_flops(NOWholeNet),\n",
    "    \"delta\": get_hypernet_flops(DeltaWholeNet),\n",
    "}\n",
    "\n",
    "bd_rates = {\n",
    "    \"kodak\": {\n",
    "        \"nocc\": 33.478488207355284,\n",
    "        \"delta\": 33.478488207355284,\n",
    "    },\n",
    "    \"clic20-pro-valid\": {\n",
    "        \"nocc\": 36.233904571367106,\n",
    "        \"delta\": 28.284958907776783,\n",
    "    },\n",
    "}\n",
    "\n",
    "\n",
    "metrics_df = pd.DataFrame(\n",
    "    [\n",
    "        (dataset, method, bd_rate, flops[method])\n",
    "        for dataset, bd_rates in bd_rates.items()\n",
    "        for method, bd_rate in bd_rates.items()\n",
    "    ],\n",
    "    columns=[\"dataset\", \"method\", \"bd_rate\", \"flops\"],\n",
    ")\n",
    "metrics_df[\"num_coolchic_steps\"] = metrics_df[\"flops\"] / flops[\"coolchic_step\"]\n",
    "metrics_df.head()"
   ]
  },
  {
   "cell_type": "code",
   "execution_count": null,
   "id": "7ffa0235",
   "metadata": {},
   "outputs": [],
   "source": [
    "dataset = \"clic20-pro-valid\"\n",
    "CONFIG_NUM_TO_LMBDA = {\"00\": 0.0001, \"01\": 0.0004, \"02\": 0.001, \"03\": 0.004, \"04\": 0.02}\n",
    "\n",
    "finetuning_dir = RESULTS_DIR / \"finetuning\" / dataset\n",
    "finetuning_df = pd.concat([pd.read_csv(file) for file in finetuning_dir.glob(\"*.csv\")])\n",
    "finetuning_df = finetuning_df.reset_index(drop=True)"
   ]
  },
  {
   "cell_type": "code",
   "execution_count": null,
   "id": "0e0aa6c1",
   "metadata": {},
   "outputs": [],
   "source": [
    "def get_bd_rate_from_df(df: pd.DataFrame) -> float:\n",
    "    metrics = defaultdict(list)\n",
    "    for _, row in df.iterrows():\n",
    "        assert \"seq_name\" in row, \"seq_name column is missing in the DataFrame\"\n",
    "        metrics[row[\"seq_name\"]].append(\n",
    "            SummaryEncodingMetrics(\n",
    "                seq_name=row[\"seq_name\"],\n",
    "                lmbda=row[\"lmbda\"],\n",
    "                rate_bpp=row[\"rate_bpp\"],\n",
    "                psnr_db=row[\"psnr_db\"],\n",
    "            )\n",
    "        )\n",
    "\n",
    "    bds = bd_rates_summary_anchor_name(\n",
    "        metrics, anchor=\"hm\", dataset=\"clic20-pro-valid\", only_latent_rate=False\n",
    "    )\n",
    "    assert len(bds) == 1, \"Expected exactly one BD rate result.\"\n",
    "    return list(bds.values())[0]\n",
    "\n",
    "\n",
    "bd_df = (\n",
    "    finetuning_df.groupby([\"n_itr\", \"seq_name\", \"anchor\"], group_keys=False)\n",
    "    .apply(get_bd_rate_from_df)\n",
    "    .reset_index()\n",
    "    .rename(columns={0: \"bd_rate\"})\n",
    ")\n",
    "bd_df[\"num_coolchic_steps\"] = bd_df[\"n_itr\"] + flops[\"nocc\"] / flops[\"coolchic_step\"]"
   ]
  },
  {
   "cell_type": "code",
   "execution_count": null,
   "id": "00108542",
   "metadata": {},
   "outputs": [],
   "source": [
    "fig, ax = plt.subplots()\n",
    "sns.scatterplot(\n",
    "    data=metrics_df[metrics_df[\"dataset\"] == dataset],\n",
    "    x=\"num_coolchic_steps\",\n",
    "    y=\"bd_rate\",\n",
    "    hue=\"method\",\n",
    "    ax=ax,\n",
    ")\n",
    "avg_bd_df = (\n",
    "    bd_df.groupby([\"anchor\", \"n_itr\"])\n",
    "    .agg({\"bd_rate\": \"mean\", \"num_coolchic_steps\": \"mean\"})\n",
    "    .reset_index()\n",
    ")\n",
    "select_bds = avg_bd_df[\n",
    "    (avg_bd_df[\"anchor\"] == \"nocc-finetuning\")\n",
    "    & (avg_bd_df[\"n_itr\"] > 50)\n",
    "    & (avg_bd_df[\"n_itr\"] < 1000)\n",
    "]\n",
    "sns.lineplot(\n",
    "    data=select_bds,\n",
    "    x=\"num_coolchic_steps\",\n",
    "    y=\"bd_rate\",\n",
    "    ax=ax,\n",
    ")\n",
    "ax.set_title(\"BD Rate vs. Equivalent number of Cool-chic Steps, CLIC20 dataset\")\n",
    "sns.despine()"
   ]
  }
 ],
 "metadata": {
  "kernelspec": {
   "display_name": ".venv",
   "language": "python",
   "name": "python3"
  },
  "language_info": {
   "codemirror_mode": {
    "name": "ipython",
    "version": 3
   },
   "file_extension": ".py",
   "mimetype": "text/x-python",
   "name": "python",
   "nbconvert_exporter": "python",
   "pygments_lexer": "ipython3",
   "version": "3.11.9"
  }
 },
 "nbformat": 4,
 "nbformat_minor": 5
}
