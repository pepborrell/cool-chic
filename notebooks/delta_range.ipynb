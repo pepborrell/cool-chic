{
 "cells": [
  {
   "cell_type": "code",
   "execution_count": null,
   "id": "ae3f89f7",
   "metadata": {},
   "outputs": [],
   "source": [
    "import matplotlib.pyplot as plt\n",
    "import torch\n",
    "\n",
    "from coolchic.enc.io.io import load_frame_data_from_tensor\n",
    "from coolchic.hypernet.hypernet import DeltaWholeNet\n",
    "from coolchic.utils.paths import CONFIG_DIR, COOLCHIC_REPO_ROOT, DATA_DIR\n",
    "from coolchic.utils.tensors import load_img_from_path\n",
    "from coolchic.utils.types import HypernetRunConfig, load_config\n",
    "\n",
    "plt.rcParams[\"figure.dpi\"] = 300"
   ]
  },
  {
   "cell_type": "code",
   "execution_count": null,
   "id": "1bfdb86b",
   "metadata": {},
   "outputs": [],
   "source": [
    "# load image from clic20\n",
    "img_path = DATA_DIR / \"clic20-pro-valid\" / \"gian-reto-tarnutzer-45212.png\"\n",
    "img = load_frame_data_from_tensor(load_img_from_path(img_path)).data\n",
    "img = img[..., :512, :512]  # crop to 512x512"
   ]
  },
  {
   "cell_type": "code",
   "execution_count": null,
   "id": "6a6727d6",
   "metadata": {},
   "outputs": [],
   "source": [
    "# Plot image in tensor\n",
    "import matplotlib.pyplot as plt\n",
    "\n",
    "\n",
    "def plot_img(img):\n",
    "    img = img.squeeze()\n",
    "    plt.imshow(img.permute(1, 2, 0).cpu().numpy())\n",
    "    plt.axis(\"off\")\n",
    "    plt.show()"
   ]
  },
  {
   "cell_type": "code",
   "execution_count": null,
   "id": "fce9fb00",
   "metadata": {},
   "outputs": [],
   "source": [
    "plot_img(img)  # plot the compressed image"
   ]
  },
  {
   "cell_type": "code",
   "execution_count": null,
   "id": "1f127f5a",
   "metadata": {},
   "outputs": [],
   "source": [
    "# instantiate a deltawholenet\n",
    "cfg_path = CONFIG_DIR / \"exps\" / \"delta-hn\" / \"ups-best-orange\" / \"config_04.yaml\"\n",
    "cfg = load_config(cfg_path, HypernetRunConfig)\n",
    "checkpoint_path = COOLCHIC_REPO_ROOT / \"best_delta_config04.pt\"\n",
    "\n",
    "net = DeltaWholeNet(cfg.hypernet_cfg)\n",
    "net.load_state_dict(torch.load(checkpoint_path, weights_only=True, map_location=\"cpu\"))"
   ]
  },
  {
   "cell_type": "code",
   "execution_count": null,
   "id": "4ee38c3a",
   "metadata": {},
   "outputs": [],
   "source": [
    "with torch.no_grad():\n",
    "    net.eval()  # set to eval mode\n",
    "    compre_img = net.forward(\n",
    "        # img.unsqueeze(0),  # add batch dimension\n",
    "        img,\n",
    "        quantizer_noise_type=\"none\",\n",
    "        quantizer_type=\"true_ste\",\n",
    "    )"
   ]
  },
  {
   "cell_type": "code",
   "execution_count": null,
   "id": "b34c0d11",
   "metadata": {},
   "outputs": [],
   "source": [
    "plot_img(compre_img[0].squeeze())\n",
    "plot_img(img[0])"
   ]
  },
  {
   "cell_type": "code",
   "execution_count": null,
   "id": "3a5ed494",
   "metadata": {},
   "outputs": [],
   "source": [
    "from coolchic.hypernet.common import add_deltas\n",
    "\n",
    "net.eval()\n",
    "with torch.no_grad():\n",
    "    latents, synth_deltas, arm_deltas, ups_deltas = net.hypernet.forward(img)\n",
    "    deltas = {\"synthesis\": synth_deltas, \"arm\": arm_deltas}\n",
    "    model_params = {\n",
    "        \"synthesis\": dict(net.mean_decoder.synthesis.named_parameters()),\n",
    "        \"arm\": dict(net.mean_decoder.arm.named_parameters()),\n",
    "    }\n",
    "    added_params = add_deltas(\n",
    "        net.mean_decoder.named_parameters(),\n",
    "        deltas[\"synthesis\"],\n",
    "        deltas[\"arm\"],\n",
    "        {},\n",
    "        batch_size=1,\n",
    "    )\n",
    "\n",
    "effective_params = {\n",
    "    \"synthesis\": {},\n",
    "    \"arm\": {},\n",
    "}\n",
    "for key in added_params:\n",
    "    if \"synthesis\" in key:\n",
    "        effective_params[\"synthesis\"][key] = added_params[key]\n",
    "    elif \"arm\" in key:\n",
    "        effective_params[\"arm\"][key] = added_params[key]"
   ]
  },
  {
   "cell_type": "code",
   "execution_count": null,
   "id": "780a94b1",
   "metadata": {},
   "outputs": [],
   "source": [
    "def hist_weights(module, deltas, effective):\n",
    "    import matplotlib.pyplot as plt\n",
    "    import pandas as pd\n",
    "    import seaborn as sns\n",
    "\n",
    "    flat_deltas = (\n",
    "        torch.cat([v.view(-1) for k, v in deltas[module].items()])\n",
    "        .cpu()\n",
    "        .detach()\n",
    "        .numpy()\n",
    "    )\n",
    "    flat_effective = (\n",
    "        torch.cat([v.view(-1) for k, v in effective[module].items()])\n",
    "        .cpu()\n",
    "        .detach()\n",
    "        .numpy()\n",
    "    )\n",
    "    data = pd.DataFrame(\n",
    "        {\n",
    "            \"type\": [\"delta\"] * len(flat_deltas) + [\"effective\"] * len(flat_effective),\n",
    "            \"value\": list(flat_deltas) + list(flat_effective),\n",
    "        }\n",
    "    )\n",
    "\n",
    "    plt.figure(figsize=(4, 3))\n",
    "    sns.histplot(\n",
    "        data=data,\n",
    "        x=\"value\",\n",
    "        hue=\"type\",\n",
    "        bins=25,\n",
    "    )\n",
    "    plt.title(f\"Weight distribution for {module}\")\n",
    "    plt.xlabel(\"Weight Value\")\n",
    "    plt.ylabel(\"Frequency\")\n",
    "\n",
    "\n",
    "hist_weights(\"synthesis\", deltas, effective_params)\n",
    "hist_weights(\"arm\", deltas, effective_params)"
   ]
  },
  {
   "cell_type": "code",
   "execution_count": null,
   "id": "bf2ee543",
   "metadata": {},
   "outputs": [],
   "source": [
    "def print_weight_stats(module_name: str):\n",
    "    for name, delta in deltas[module_name].items():\n",
    "        eq_weight = model_params[module_name][name]\n",
    "        print(\n",
    "            f\"{name}, {delta.mean()=:.3f}, {delta.std()=:.3f}, {delta.min()=:.3f}, {delta.max()=:.3f}\"\n",
    "        )\n",
    "        print(\n",
    "            f\"    {100 * delta.std() / eq_weight.std():.1f}% of the original weight std\"\n",
    "        )"
   ]
  },
  {
   "cell_type": "code",
   "execution_count": null,
   "id": "eef4edc8",
   "metadata": {},
   "outputs": [],
   "source": [
    "print_weight_stats(\"synthesis\")"
   ]
  },
  {
   "cell_type": "code",
   "execution_count": null,
   "id": "2434038e",
   "metadata": {},
   "outputs": [],
   "source": [
    "print_weight_stats(\"arm\")"
   ]
  }
 ],
 "metadata": {
  "kernelspec": {
   "display_name": "coolchic",
   "language": "python",
   "name": "python3"
  },
  "language_info": {
   "codemirror_mode": {
    "name": "ipython",
    "version": 3
   },
   "file_extension": ".py",
   "mimetype": "text/x-python",
   "name": "python",
   "nbconvert_exporter": "python",
   "pygments_lexer": "ipython3",
   "version": "3.11.9"
  }
 },
 "nbformat": 4,
 "nbformat_minor": 5
}
