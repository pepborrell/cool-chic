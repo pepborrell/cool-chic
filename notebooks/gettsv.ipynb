{
 "cells": [
  {
   "cell_type": "markdown",
   "id": "7b8d754b",
   "metadata": {},
   "source": [
    "Would it be possible for you to send me over a tsv file with the following quantities : Image name, lambda value, rate in bpp, psnr in dB, number of pixels ?"
   ]
  },
  {
   "cell_type": "code",
   "execution_count": null,
   "id": "74069f88",
   "metadata": {},
   "outputs": [],
   "source": [
    "import pandas as pd\n",
    "from PIL import Image\n",
    "\n",
    "from coolchic.utils.paths import DATA_DIR, RESULTS_DIR\n",
    "\n",
    "csvs = RESULTS_DIR / \"exps\" / \"delta-hn/ups-best-orange\"\n",
    "# csvs = RESULTS_DIR / \"exps\" / \"copied/no-cchic/orange-best\"\n",
    "all_csvs = list(csvs.glob(\"**/clic*.csv\"))\n",
    "# all_csvs = list(csvs.glob(\"**/kodak*.csv\"))\n",
    "\n",
    "\n",
    "CONFIG_NUM_TO_LMBDA = {\n",
    "    \"00\": 0.0001,\n",
    "    \"01\": 0.0002,\n",
    "    \"02\": 0.0004,\n",
    "    \"03\": 0.001,\n",
    "    \"04\": 0.004,\n",
    "    \"05\": 0.02,\n",
    "}\n",
    "\n",
    "all_dfs = []\n",
    "for file in all_csvs:\n",
    "    df = pd.read_csv(file).assign(\n",
    "        lmbda=CONFIG_NUM_TO_LMBDA[file.parent.parent.stem.split(\"_\")[-1]]\n",
    "    )\n",
    "    all_dfs.append(df)\n",
    "full_df = pd.concat(all_dfs).drop(\n",
    "    columns=[\"mse\", \"anchor\", \"option_selected\", \"Unnamed: 0\"]\n",
    ")\n",
    "\n",
    "img_dir = DATA_DIR / \"clic20-pro-valid/\"\n",
    "pixels = []\n",
    "for img in img_dir.glob(\"*.png\"):\n",
    "    # load image with pil and see how many pixels it has\n",
    "    img_pil = Image.open(img)\n",
    "    pixels.append({\"seq_name\": img.stem, \"pixels\": img_pil.size[0] * img_pil.size[1]})\n",
    "\n",
    "pixels_df = pd.DataFrame(pixels)\n",
    "full_df = full_df.merge(\n",
    "    pixels_df,\n",
    "    how=\"left\",\n",
    "    left_on=\"seq_name\",\n",
    "    right_on=\"seq_name\",\n",
    ")"
   ]
  },
  {
   "cell_type": "code",
   "execution_count": null,
   "id": "77ff8c7f",
   "metadata": {},
   "outputs": [],
   "source": [
    "pd.concat(all_dfs).option_selected.value_counts().sort_index()"
   ]
  },
  {
   "cell_type": "code",
   "execution_count": null,
   "id": "3e96786a",
   "metadata": {},
   "outputs": [],
   "source": [
    "full_df.head()"
   ]
  },
  {
   "cell_type": "code",
   "execution_count": null,
   "id": "49c01bba",
   "metadata": {},
   "outputs": [],
   "source": [
    "from pathlib import Path\n",
    "\n",
    "full_df.to_csv(Path(\"~/Downloads/all_clic.tsv\").expanduser(), index=False, sep=\"\\t\")"
   ]
  }
 ],
 "metadata": {
  "kernelspec": {
   "display_name": "coolchic",
   "language": "python",
   "name": "python3"
  },
  "language_info": {
   "codemirror_mode": {
    "name": "ipython",
    "version": 3
   },
   "file_extension": ".py",
   "mimetype": "text/x-python",
   "name": "python",
   "nbconvert_exporter": "python",
   "pygments_lexer": "ipython3",
   "version": "3.11.9"
  }
 },
 "nbformat": 4,
 "nbformat_minor": 5
}
